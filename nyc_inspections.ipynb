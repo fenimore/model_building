{
 "cells": [
  {
   "cell_type": "code",
   "execution_count": 24,
   "metadata": {},
   "outputs": [
    {
     "data": {
      "text/html": [
       "\n",
       "            <div>\n",
       "                <p><b>SparkSession - hive</b></p>\n",
       "                \n",
       "        <div>\n",
       "            <p><b>SparkContext</b></p>\n",
       "\n",
       "            <p><a href=\"http://localhost:4040\">Spark UI</a></p>\n",
       "\n",
       "            <dl>\n",
       "              <dt>Version</dt>\n",
       "                <dd><code>v2.4.4</code></dd>\n",
       "              <dt>Master</dt>\n",
       "                <dd><code>local[*]</code></dd>\n",
       "              <dt>AppName</dt>\n",
       "                <dd><code>PySparkShell</code></dd>\n",
       "            </dl>\n",
       "        </div>\n",
       "        \n",
       "            </div>\n",
       "        "
      ],
      "text/plain": [
       "<pyspark.sql.session.SparkSession at 0x7f084c067950>"
      ]
     },
     "execution_count": 24,
     "metadata": {},
     "output_type": "execute_result"
    }
   ],
   "source": [
    "from pyspark.sql.functions import col, concat\n",
    "from pyspark.sql import functions as F\n",
    "from pyspark.sql import Row\n",
    "from pyspark.sql.types import *\n",
    "\n",
    "spark"
   ]
  },
  {
   "cell_type": "code",
   "execution_count": 10,
   "metadata": {},
   "outputs": [
    {
     "data": {
      "text/plain": [
       "['CAMIS',\n",
       " 'DBA',\n",
       " 'BORO',\n",
       " 'BUILDING',\n",
       " 'STREET',\n",
       " 'ZIPCODE',\n",
       " 'PHONE',\n",
       " 'CUISINE DESCRIPTION',\n",
       " 'INSPECTION DATE',\n",
       " 'ACTION',\n",
       " 'VIOLATION CODE',\n",
       " 'VIOLATION DESCRIPTION',\n",
       " 'CRITICAL FLAG',\n",
       " 'SCORE',\n",
       " 'GRADE',\n",
       " 'GRADE DATE',\n",
       " 'RECORD DATE',\n",
       " 'INSPECTION TYPE']"
      ]
     },
     "execution_count": 10,
     "metadata": {},
     "output_type": "execute_result"
    }
   ],
   "source": [
    "df = spark.read.csv(\"datasets/nyc/DOHMH_New_York_City_Restaurant_Inspection_Results.csv\", header=True)\n",
    "df.columns"
   ]
  },
  {
   "cell_type": "markdown",
   "metadata": {},
   "source": [
    "The Health Department inspects about 24,000 restaurants a year to monitor compliance with City and State food safetyregulations. Since July 2010, the Health Department has required restaurants to post letter grades showing sanitary inspectionresults. \n",
    "\n",
    "Restaurants with a score between 0 and 13 points earn an A\n",
    "\n",
    "those with 14 to 27 points receive a B\n",
    "\n",
    "and those with 28 or more a C"
   ]
  },
  {
   "cell_type": "markdown",
   "metadata": {},
   "source": [
    "# Feature Selection"
   ]
  },
  {
   "cell_type": "code",
   "execution_count": 89,
   "metadata": {},
   "outputs": [],
   "source": [
    "# the Closed action is the \"target\" (not feature)\n",
    "no_action = \"No violations were recorded at the time of this inspection\"\n",
    "re_open = \"Establishment re-opened by DOHMH\"\n",
    "citations = \"Violations were cited in the following area(s).\"\n",
    "closed = \"Establishment Closed by DOHMH.  Violations were cited in the following area(s) and those requiring immediate action were addressed.\"\n",
    "\n",
    "features_dict = {\n",
    "    \"score\": 0,\n",
    "    \"violation\": 1,\n",
    "    \"grade\": 3,\n",
    "    \"critical\": 4,\n",
    "    \"description\": 5,\n",
    "    \"zip\": 6,\n",
    "    \"month\": 8,\n",
    "    \"borough\": 10\n",
    "}\n",
    "violation_map = df.filter(col(\"VIOLATION CODE\").isNotNull()).groupby(\n",
    "    \"VIOLATION CODE\"\n",
    ").agg(\n",
    "    F.collect_set(col(\"VIOLATION DESCRIPTION\")).alias(\"description\")\n",
    ").select(\n",
    "    col(\"VIOLATION CODE\").alias(\"code\"), \"description\").rdd.collectAsMap()\n",
    "\n",
    "boros =spark.createDataFrame(\n",
    "    [(\"MANHATTAN\", 0), (\"QUEENS\", 1), (\"BROOKLYN\", 2), (\"BRONX\", 3), (\"STATEN ISLAND\", 4)],\n",
    "    [\"boro\", \"x_boro\"]\n",
    ")\n",
    "grades = spark.createDataFrame(\n",
    "    [(None, 0), (\"Note Yet Graded\", 0), (\"P\", 0), (\"Z\", 0), (\"A\", 1), (\"B\", 2), (\"C\", 3)],\n",
    "    [\"grade\", \"x_grade\"]\n",
    ")\n",
    "violations = spark.createDataFrame(\n",
    "           [\n",
    "               (\"08C\", 0), (\"03C\", 1), (\"16C\", 2), (\"02C\", 3), (\"03F\", 4), (\"10H\", 5), \n",
    "               (\"10A\", 6), (\"16A\", 7), (\"16B\", 8), (\"08B\", 9), (\"15I\", 10), (\"03B\", 11), \n",
    "               (\"03A\", 12), (\"10J\", 13), (\"06I\", 14), (\"03G\", 15), (\"04B\", 16), (\"02E\", 17), \n",
    "               (\"02J\", 18), (\"05A\", 19), (\"06D\", 20), (\"05D\", 21), (\"04L\", 22), (\"15L\", 23),\n",
    "               (\"20F\", 24), (\"04G\", 25), (\"06C\", 26), (\"10C\", 27), (\"06A\", 28), (\"07A\", 29),\n",
    "               (\"09C\", 30), (\"09B\", 31), (\"04A\", 32), (\"04K\", 33), (\"05C\", 34), (\"04C\", 35),\n",
    "               (\"05E\", 36), (\"10F\", 37), (\"03D\", 38), (\"06B\", 39), (\"02D\", 40), (\"02A\", 41),\n",
    "               (\"10G\", 42), (\"04F\", 43), (\"06F\", 44), (\"02H\", 45), (\"22F\", 46), (\"02I\", 47),\n",
    "               (\"05H\", 48), (\"02B\", 49), (\"04N\", 50), (\"04M\", 51), (\"02G\", 52), (\"02F\", 53), \n",
    "               (\"10D\", 54), (\"10E\", 55), (\"03E\", 56), (\"06E\", 57), (\"05F\", 58), (\"10B\", 59), \n",
    "               (\"04H\", 60), (\"06H\", 61), (\"09A\", 62), (\"04D\", 63), (\"04J\", 64), (\"04E\", 65),\n",
    "               (\"05B\", 66), (\"06G\", 67), (\"04O\", 68), (\"22G\", 69), (\"15S\", 70), (\"05I\", 71),\n",
    "               (\"10I\", 72), (\"08A\", 73), (\"04I\", 74)\n",
    "           ],\n",
    "           [\"violation\", \"x_violation\"],\n",
    ")\n",
    "\n",
    "descriptions =  spark.createDataFrame(\n",
    "    [\n",
    "        (\"Pancakes/Waffles\", 0), (\"Chinese/Japanese\", 1), (\"Mexican\", 2), (\"Jewish/Kosher\", 3), (\"Bakery\", 4), (\"Turkish\", 5), (\"Scandinavian\", 6), (\"Armenian\", 7), (\"Hotdogs\", 8), (\"Ethiopian\", 9), (\"Thai\", 10), (\"Indian\", 11), (\"Chinese\", 12), (\"Indonesian\", 13), (\"Soul Food\", 14), (\"Continental\", 15), (\"Steak\", 16), (\"African\", 17), (\"Creole\", 18), (\"CafÃ©/Coffee/Tea\", 19), (\"Donuts\", 20), (\"Tapas\", 21), (\"Chicken\", 22), (\"Chilean\", 23), (\"Irish\", 24), (\"Ice Cream, Gelato, Yogurt, Ices\", 25), (\"Polish\", 26), (\"Pizza/Italian\", 27), (\"Sandwiches/Salads/Mixed Buffet\", 28), (\"Hawaiian\", 29), (\"Peruvian\", 30), (\"Japanese\", 31), (\"Salads\", 32), (\"English\", 33), (\"Australian\", 34), (\"Filipino\", 35), (\"Californian\", 36), (\"Spanish\", 37), (\"Pakistani\", 38), (\"Other\", 39), (\"Pizza\", 40), (\"Portuguese\", 41), (\"Italian\", 42), (\"Caribbean\", 43), (\"Bangladeshi\", 44), (\"Fruits/Vegetables\", 45), (\"Not Listed/Not Applicable\", 46), (\"Sandwiches\", 47), (\"Vegetarian\", 48), (\"Russian\", 49), (\"Korean\", 50), (\"French\", 51), (\"Southwestern\", 52), (\"Hotdogs/Pretzels\", 53), (\"Latin (Cuban, Dominican, Puerto Rican, South & Central American)\", 54), (\"Egyptian\", 55), (\"Middle Eastern\", 56), (\"Seafood\", 57), (\"Hamburgers\", 58), (\"Chinese/Cuban\", 59), (\"Nuts/Confectionary\", 60), (\"Polynesian\", 61), (\"Bottled beverages, including water, sodas, juices, etc.\", 62), (\"Eastern European\", 63), (\"Brazilian\", 64), (\"Cajun\", 65), (\"Bagels/Pretzels\", 66), (\"Greek\", 67), (\"Asian\", 68), (\"Creole/Cajun\", 69), (\"Iranian\", 70), (\"Moroccan\", 71), (\"German\", 72), (\"Juice, Smoothies, Fruit Salads\", 73), (\"Mediterranean\", 74), (\"Soups & Sandwiches\", 75), (\"Vietnamese/Cambodian/Malaysia\", 76), (\"Barbecue\", 77), (\"American\", 78), (\"Afghan\", 79), (\"Czech\", 80), (\"Soups\", 81), (\"Delicatessen\", 82), (\"Tex-Mex\", 83)\n",
    "    ],\n",
    "    [\"description\", \"x_description\"]\n",
    ")"
   ]
  },
  {
   "cell_type": "raw",
   "metadata": {},
   "source": []
  },
  {
   "cell_type": "markdown",
   "metadata": {},
   "source": [
    "# Prepare Inspections Dataframe"
   ]
  },
  {
   "cell_type": "code",
   "execution_count": 57,
   "metadata": {},
   "outputs": [
    {
     "name": "stdout",
     "output_type": "stream",
     "text": [
      "root\n",
      " |-- description: string (nullable = true)\n",
      " |-- boro: string (nullable = true)\n",
      " |-- grade: string (nullable = true)\n",
      " |-- violation: string (nullable = true)\n",
      " |-- name: string (nullable = true)\n",
      " |-- phone: string (nullable = true)\n",
      " |-- address: string (nullable = true)\n",
      " |-- street: string (nullable = true)\n",
      " |-- zip: integer (nullable = true)\n",
      " |-- score: integer (nullable = true)\n",
      " |-- action: string (nullable = true)\n",
      " |-- critical: integer (nullable = false)\n",
      " |-- closed: integer (nullable = false)\n",
      " |-- inspection_date: date (nullable = true)\n",
      " |-- grade_date: date (nullable = true)\n",
      " |-- month: integer (nullable = true)\n",
      " |-- x_violation: long (nullable = true)\n",
      " |-- x_grade: long (nullable = true)\n",
      " |-- x_boro: long (nullable = true)\n",
      " |-- x_description: long (nullable = true)\n",
      "\n"
     ]
    }
   ],
   "source": [
    "inspections = df.select(\n",
    "    # restaurant\n",
    "    df.DBA.alias(\"name\"),\n",
    "    col(\"PHONE\").alias(\"phone\"),   \n",
    "    col(\"CUISINE DESCRIPTION\").alias(\"description\"),    \n",
    "    # location\n",
    "    concat(df.BUILDING, F.lit(\" \"), df.STREET).alias(\"address\"),     \n",
    "    col(\"STREET\").alias(\"street\"), \n",
    "    col(\"ZIPCODE\").alias(\"zip\").cast(\"int\"),\n",
    "    col(\"BORO\").alias(\"boro\"), \n",
    "    # score\n",
    "    col(\"SCORE\").cast(\"int\").alias(\"score\"),\n",
    "    col(\"GRADE\").alias(\"grade\"),\n",
    "    col(\"VIOLATION CODE\").alias(\"violation\"),\n",
    "    df.ACTION.alias(\"action\"),\n",
    "    F.when(\n",
    "        col(\"CRITICAL FLAG\") == \"Critical\", 1\n",
    "    ).otherwise(0).alias(\"critical\"),    \n",
    "    F.when(\n",
    "        df.ACTION == closed, 1\n",
    "    ).otherwise(0).alias(\"closed\"),      \n",
    "    # dates\n",
    "    F.to_date(col(\"INSPECTION DATE\"), 'MM/dd/yyyy').alias(\"inspection_date\"),\n",
    "    F.to_date(col(\"GRADE DATE\"), 'MM/dd/yyyy').alias(\"grade_date\"),\n",
    "    F.month(F.to_date(col(\"INSPECTION DATE\"), 'MM/dd/yyyy')).alias(\"month\"),\n",
    ").filter(\n",
    "    \"score is not NULL\"\n",
    ").join(\n",
    "    F.broadcast(violations), \"violation\", how=\"left\"\n",
    ").join(\n",
    "    F.broadcast(grades), \"grade\", how=\"left\"\n",
    ").join(\n",
    "    F.broadcast(boros), \"boro\", how=\"left\"\n",
    ").join(\n",
    "    F.broadcast(descriptions), \"description\", how=\"left\"\n",
    ").fillna(0)\n",
    "\n",
    "inspections.printSchema()\n"
   ]
  },
  {
   "cell_type": "markdown",
   "metadata": {},
   "source": [
    "# Prepare SVM format Train and Test Sets"
   ]
  },
  {
   "cell_type": "code",
   "execution_count": 92,
   "metadata": {},
   "outputs": [],
   "source": [
    "def map_features(row):\n",
    "    return Row(\n",
    "        target=row.closed, libsvm=f\"\"\"{row.closed} 0:{row.score} 1:{row.x_violation} 3:{row.x_grade} 4:{row.critical} 5:{row.x_description} 10:{row.x_boro} 6:{row.zip} 8:{row.month}\"\"\"\n",
    "    )\n",
    "\n",
    "\n",
    "svm_violations = inspections.rdd.map(map_features).toDF()\n",
    "positive_violations = svm_violations.filter(\"target = 1\")\n",
    "negative_violations = svm_violations.filter(\"target = 0\")\n",
    "\n",
    "neg_test, neg_train = negative_violations.randomSplit([0.3, 0.7], seed=42)\n",
    "pos_test, pos_train = positive_violations.randomSplit([0.3, 0.7], seed=42)"
   ]
  },
  {
   "cell_type": "code",
   "execution_count": 93,
   "metadata": {},
   "outputs": [],
   "source": [
    "test_set = neg_test.union(pos_test)\n",
    "train_set = neg_train.union(pos_train)"
   ]
  },
  {
   "cell_type": "code",
   "execution_count": null,
   "metadata": {},
   "outputs": [],
   "source": [
    "test_set.rdd.map(lambda row: row.libsvm).coalesce(1).saveAsTextFile(\"./testset.svm\")\n",
    "train_set.rdd.map(lambda row: row.libsvm).coalesce(1).saveAsTextFile(\"./trainset.svm\")"
   ]
  },
  {
   "cell_type": "code",
   "execution_count": null,
   "metadata": {},
   "outputs": [],
   "source": [
    "svm_violations.rdd.map(lambda row: row.libsvm).coalesce(1).saveAsTextFile(\"./violations.svm\")"
   ]
  },
  {
   "cell_type": "markdown",
   "metadata": {},
   "source": [
    "# Load scored svm  rows\n",
    "\n",
    "(first train models using the train and test set, and then score entire series of violations"
   ]
  },
  {
   "cell_type": "code",
   "execution_count": 94,
   "metadata": {},
   "outputs": [],
   "source": [
    "schema = StructType(\n",
    "    [\n",
    "        StructField(\"score\", DoubleType()),\n",
    "        StructField(\"libsvm\", StringType()),\n",
    "    ]\n",
    ")"
   ]
  },
  {
   "cell_type": "code",
   "execution_count": 95,
   "metadata": {},
   "outputs": [],
   "source": [
    "scores = spark.read.csv(\"scores.tsv\", sep=\"\\t\", schema=schema)"
   ]
  },
  {
   "cell_type": "code",
   "execution_count": 96,
   "metadata": {},
   "outputs": [],
   "source": [
    "def parse_svm(row):\n",
    "    target = int(row.libsvm.split(\" \")[0])\n",
    "    features = row.libsvm.split(\" \")[1:]\n",
    "    features_map = {\n",
    "        int(f.split(\":\")[0]): int(f.split(\":\")[1]) for f in features\n",
    "    }\n",
    "    return Row(\n",
    "        score=row.score,\n",
    "        target=target,\n",
    "        inspection_score=features_map[0],\n",
    "        x_violation=features_map[1],\n",
    "        x_grade=features_map[3],\n",
    "        critical=features_map[4],\n",
    "        x_description=features_map[5],\n",
    "        zip=features_map[6],\n",
    "        month=features_map[8],\n",
    "        x_boro=features_map[10],\n",
    "    )\n",
    "\n",
    "\n",
    "scores_df = scores.rdd.map(parse_svm).toDF()"
   ]
  },
  {
   "cell_type": "code",
   "execution_count": 97,
   "metadata": {},
   "outputs": [],
   "source": [
    "results = scores_df.join(\n",
    "    F.broadcast(violations), \"x_violation\", how=\"left\"\n",
    ").join(\n",
    "    F.broadcast(grades), \"x_grade\", how=\"left\"\n",
    ").join(\n",
    "    F.broadcast(boros), \"x_boro\", how=\"left\"\n",
    ").join(\n",
    "    F.broadcast(descriptions), \"x_description\", how=\"left\"\n",
    ").drop(\"x_violation\", \"x_grade\", \"x_boro\", \"x_description\")"
   ]
  },
  {
   "cell_type": "code",
   "execution_count": 98,
   "metadata": {},
   "outputs": [
    {
     "name": "stdout",
     "output_type": "stream",
     "text": [
      "+------------------+------+--------------------+---------+---------------+----------------+\n",
      "|             score|target|         description|violation|          grade|inspection_score|\n",
      "+------------------+------+--------------------+---------+---------------+----------------+\n",
      "|0.8602822422981262|     1|              Korean|      04L|              P|             102|\n",
      "|0.8602822422981262|     1|    CafÃ©/Coffee/Tea|      04L|              P|              79|\n",
      "|0.8602822422981262|     1|              Korean|      04L|Note Yet Graded|             102|\n",
      "|0.8602822422981262|     0|             Chinese|      04L|              P|              73|\n",
      "|0.8602822422981262|     1|              Korean|      04L|           null|             102|\n",
      "|0.8602822422981262|     0|             Chinese|      04L|           null|              73|\n",
      "|0.8602822422981262|     0|     Bagels/Pretzels|      04L|              Z|              76|\n",
      "|0.8602822422981262|     1|             Chinese|      04L|              Z|              88|\n",
      "|0.8602822422981262|     0|     Bagels/Pretzels|      04L|              P|              76|\n",
      "|0.8602822422981262|     1|             Chinese|      04L|Note Yet Graded|              88|\n",
      "|0.8602822422981262|     0|     Bagels/Pretzels|      04L|Note Yet Graded|              76|\n",
      "|0.8602822422981262|     1|             Chinese|      04L|              Z|              81|\n",
      "|0.8602822422981262|     0|     Bagels/Pretzels|      04L|           null|              76|\n",
      "|0.8602822422981262|     1|             Chinese|      04L|Note Yet Graded|              81|\n",
      "|0.8602822422981262|     1|Latin (Cuban, Dom...|      04L|              Z|              94|\n",
      "|0.8602822422981262|     1|              Korean|      04L|              Z|              74|\n",
      "|0.8602822422981262|     1|Latin (Cuban, Dom...|      04L|              P|              94|\n",
      "|0.8602822422981262|     1|              Korean|      04L|Note Yet Graded|              74|\n",
      "|0.8602822422981262|     1|Latin (Cuban, Dom...|      04L|Note Yet Graded|              94|\n",
      "|0.8602822422981262|     1|Latin (Cuban, Dom...|      04L|           null|              94|\n",
      "+------------------+------+--------------------+---------+---------------+----------------+\n",
      "only showing top 20 rows\n",
      "\n"
     ]
    }
   ],
   "source": [
    "results.sort(\"score\", ascending=False).select(\n",
    "    \"score\", \"target\", \"description\", \"violation\", \"grade\", \"inspection_score\",\n",
    ").show()"
   ]
  },
  {
   "cell_type": "code",
   "execution_count": null,
   "metadata": {},
   "outputs": [],
   "source": []
  },
  {
   "cell_type": "code",
   "execution_count": null,
   "metadata": {},
   "outputs": [],
   "source": []
  },
  {
   "cell_type": "code",
   "execution_count": null,
   "metadata": {},
   "outputs": [],
   "source": []
  },
  {
   "cell_type": "markdown",
   "metadata": {},
   "source": [
    "## Preliminary questions"
   ]
  },
  {
   "cell_type": "code",
   "execution_count": 78,
   "metadata": {},
   "outputs": [
    {
     "data": {
      "text/plain": [
       "DataFrame[name: string, phone: string, description: string, address: string, street: string, zip: string, boro: string, score: string, grade: string, violation: string, action: string, critical: int, closed: int, inspection_date: date, grade_date: date, month: int]"
      ]
     },
     "execution_count": 78,
     "metadata": {},
     "output_type": "execute_result"
    }
   ],
   "source": [
    "inspections.cache()\n",
    "total = inspections.count()\n",
    "null_score = inspections.filter(\"score is null\").count()\n",
    "null_grade = inspections.filter(\"grade is null\").count()\n",
    "null_grade_date = inspections.filter(\"grade_date is null\").count()\n",
    "null_inspect_date = inspections.filter(\"inspection_date is null\").count()\n",
    "null_score_and_grade = inspections.filter(\"score is null and grade is null\").count()\n",
    "null_grade_and_grade_date = inspections.filter(\"grade_date is null and grade is null\").count()\n",
    "\n",
    "null_phones = inspections.filter(\"phone is null\").count()\n",
    "unique_street = inspections.select(\"street\").distinct().count()\n",
    "unique_phones = inspections.select(\"phone\").distinct().count()\n",
    "unique_address = inspections.select(\"address\").distinct().count()\n",
    "unique_address_phone = inspections.select(\"address\", \"phone\").distinct().count()\n",
    "unique_names = inspections.select(\"name\").distinct().count()\n",
    "unique_address_name = inspections.select(\"address\", \"name\").distinct().count()\n",
    "\n",
    "uniques = inspections.select(\"address\", \"phone\", \"description\").distinct().count()\n",
    "uniques_plus_name = inspections.select(\n",
    "    \"address\", \"phone\", \"description\", \"name\"\n",
    ").distinct().count()\n",
    "\n",
    "desc_changers = inspections.groupby(\n",
    "    \"address\", \"phone\"\n",
    ").agg(F.collect_set(inspections.description).alias(\"desc\")).filter(\"size(desc) > 1\").count()\n",
    "\n",
    "name_changers = inspections.groupby(\n",
    "    \"address\", \"phone\"\n",
    ").agg(F.collect_set(inspections.name).alias(\"change\")).filter(\"size(change) > 1\").count()\n",
    "\n",
    "phone_changers = inspections.groupby(\n",
    "    \"address\", \n",
    ").agg(F.collect_set(inspections.phone).alias(\"change\")).filter(\"size(change) > 1\").count()\n",
    "\n",
    "addr_changers = inspections.groupby(\n",
    "    \"phone\",\n",
    ").agg(F.collect_set(inspections.address).alias(\"change\")).filter(\"size(change) > 1\").count()\n",
    "inspections.unpersist()"
   ]
  },
  {
   "cell_type": "code",
   "execution_count": 77,
   "metadata": {},
   "outputs": [
    {
     "name": "stdout",
     "output_type": "stream",
     "text": [
      "\n",
      "Total:             376,704\n",
      "Null Score:        0\n",
      "Null Grad:         181,295\n",
      "Null Grad Date:    183,886\n",
      "Null Inspect Date: 0\n",
      "\n",
      "Unique Phones:     24,298\n",
      "Null phones:       0\n",
      "Unique Street:     3,260\n",
      "Unique Address:    23,056\n",
      "Unique addr phone: 24,928\n",
      "Unique Name:       20,304\n",
      "\n",
      "Uniques by name:   25,317\n",
      "Uniques x3:        25,056\n",
      "Uniqe addr name:   25,251\n",
      "\n",
      "Changers\n",
      " desc:             86\n",
      " name:             166\n",
      " phone:            1102\n",
      " addr:             429                   \n",
      "                   \n",
      "                   0\n",
      "                   181,295\n",
      "\n"
     ]
    }
   ],
   "source": [
    "print(f\"\"\"\n",
    "Total:             {total:,}\n",
    "Null Score:        {null_score:,}\n",
    "Null Grad:         {null_grade:,}\n",
    "Null Grad Date:    {null_grade_date:,}\n",
    "Null Inspect Date: {null_inspect_date:,}\n",
    "\n",
    "Unique Phones:     {unique_phones:,}\n",
    "Null phones:       {null_phones:,}\n",
    "Unique Street:     {unique_street:,}\n",
    "Unique Address:    {unique_address:,}\n",
    "Unique addr phone: {unique_address_phone:,}\n",
    "Unique Name:       {unique_names:,}\n",
    "\n",
    "Uniques by name:   {uniques_plus_name:,}\n",
    "Uniques x3:        {uniques:,}\n",
    "Uniqe addr name:   {unique_address_name:,}\n",
    "\n",
    "Changers\n",
    " desc:             {desc_changers}\n",
    " name:             {name_changers}\n",
    " phone:            {phone_changers}\n",
    " addr:             {addr_changers}                   \n",
    "                   \n",
    "                   {null_score_and_grade:,}\n",
    "                   {null_grade_and_grade_date:,}\n",
    "\"\"\")"
   ]
  },
  {
   "cell_type": "code",
   "execution_count": null,
   "metadata": {},
   "outputs": [],
   "source": []
  },
  {
   "cell_type": "code",
   "execution_count": null,
   "metadata": {},
   "outputs": [],
   "source": []
  },
  {
   "cell_type": "code",
   "execution_count": null,
   "metadata": {},
   "outputs": [],
   "source": []
  },
  {
   "cell_type": "code",
   "execution_count": null,
   "metadata": {},
   "outputs": [],
   "source": []
  },
  {
   "cell_type": "code",
   "execution_count": null,
   "metadata": {},
   "outputs": [],
   "source": []
  },
  {
   "cell_type": "code",
   "execution_count": null,
   "metadata": {},
   "outputs": [],
   "source": []
  },
  {
   "cell_type": "code",
   "execution_count": null,
   "metadata": {},
   "outputs": [],
   "source": []
  },
  {
   "cell_type": "code",
   "execution_count": null,
   "metadata": {},
   "outputs": [],
   "source": []
  },
  {
   "cell_type": "code",
   "execution_count": null,
   "metadata": {},
   "outputs": [],
   "source": []
  }
 ],
 "metadata": {
  "kernelspec": {
   "display_name": "Python 3",
   "language": "python",
   "name": "python3"
  },
  "language_info": {
   "codemirror_mode": {
    "name": "ipython",
    "version": 3
   },
   "file_extension": ".py",
   "mimetype": "text/x-python",
   "name": "python",
   "nbconvert_exporter": "python",
   "pygments_lexer": "ipython3",
   "version": "3.7.4"
  }
 },
 "nbformat": 4,
 "nbformat_minor": 2
}
