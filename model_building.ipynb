{
 "cells": [
  {
   "cell_type": "code",
   "execution_count": 3,
   "metadata": {},
   "outputs": [],
   "source": [
    "import xgboost as xgb\n",
    "\n",
    "param = {'max_depth': 2, 'eta': 1, 'objective': 'binary:logistic'}\n",
    "param['nthread'] = 4  # ??\n",
    "\n",
    "param['eval_metric'] = 'auc'"
   ]
  },
  {
   "cell_type": "code",
   "execution_count": 5,
   "metadata": {},
   "outputs": [
    {
     "name": "stdout",
     "output_type": "stream",
     "text": [
      "[17:44:11] 263703x11 matrix with 2109624 entries loaded from trainset.svm/part-00000\n",
      "[17:44:11] 113001x11 matrix with 904008 entries loaded from testset.svm/part-00000\n"
     ]
    }
   ],
   "source": [
    "dtrain = xgb.DMatrix('trainset.svm/part-00000')\n",
    "dtest = xgb.DMatrix('testset.svm/part-00000')\n",
    "\n",
    "evallist = [(dtest, 'eval'), (dtrain, 'train')]"
   ]
  },
  {
   "cell_type": "markdown",
   "metadata": {},
   "source": [
    "# Train and Save model"
   ]
  },
  {
   "cell_type": "code",
   "execution_count": 9,
   "metadata": {},
   "outputs": [
    {
     "name": "stdout",
     "output_type": "stream",
     "text": [
      "[0]\teval-auc:0.912656\ttrain-auc:0.911372\n",
      "[1]\teval-auc:0.936417\ttrain-auc:0.936791\n",
      "[2]\teval-auc:0.957589\ttrain-auc:0.957449\n",
      "[3]\teval-auc:0.959335\ttrain-auc:0.959363\n",
      "[4]\teval-auc:0.962188\ttrain-auc:0.961726\n",
      "[5]\teval-auc:0.963372\ttrain-auc:0.962832\n",
      "[6]\teval-auc:0.963939\ttrain-auc:0.963903\n",
      "[7]\teval-auc:0.964827\ttrain-auc:0.964719\n",
      "[8]\teval-auc:0.965094\ttrain-auc:0.964923\n",
      "[9]\teval-auc:0.965799\ttrain-auc:0.96528\n",
      "0001.model\t   dump.raw.txt\t\t  requirements.txt\n",
      "datasets\t   model_building.ipynb   testset.svm\n",
      "dump.raw.0001.txt  nyc_inspections.ipynb  trainset.svm\n"
     ]
    }
   ],
   "source": [
    "version = \"0001\"\n",
    "num_round = 10\n",
    "bst = xgb.train(param, dtrain, num_round, evallist)\n",
    "\n",
    "# After training, the model can be saved.\n",
    "\n",
    "bst.save_model(f'{version}.model')\n",
    "\n",
    "# The model and its feature map can also be dumped to a text file.\n",
    "\n",
    "# dump model with feature map\n",
    "bst.dump_model(f'dump.raw.{version}.txt')\n",
    "\n",
    "\n",
    "! ls"
   ]
  },
  {
   "cell_type": "code",
   "execution_count": 12,
   "metadata": {},
   "outputs": [],
   "source": [
    "#A saved model can be loaded as follows:\n",
    "\n",
    "bst = xgb.Booster({'nthread': 4})  # init model\n",
    "bst.load_model(f'{version}.model')  # load data"
   ]
  },
  {
   "cell_type": "markdown",
   "metadata": {},
   "source": [
    "# Score All Violation Events"
   ]
  },
  {
   "cell_type": "code",
   "execution_count": 70,
   "metadata": {},
   "outputs": [
    {
     "name": "stdout",
     "output_type": "stream",
     "text": [
      "[18:53:49] 376704x11 matrix with 3013632 entries loaded from violations.svm/part-00000\n"
     ]
    }
   ],
   "source": [
    "dviolations = xgb.DMatrix('violations.svm/part-00000')\n",
    "result = bst.predict(dviolations)\n",
    "lines = open(\"violations.svm/part-00000\").readlines()  # reads newline too\n",
    "\n",
    "with open(\"scores.tsv\", \"w\") as f:\n",
    "    for idx, score in enumerate(result):\n",
    "        f.write(f\"{score}\\t\")\n",
    "        f.write(lines[idx])"
   ]
  },
  {
   "cell_type": "code",
   "execution_count": 68,
   "metadata": {},
   "outputs": [
    {
     "data": {
      "text/plain": [
       "<matplotlib.axes._subplots.AxesSubplot at 0x7f6ae9d88fd0>"
      ]
     },
     "execution_count": 68,
     "metadata": {},
     "output_type": "execute_result"
    },
    {
     "data": {
      "image/png": "[encoded data removed]",
      "text/plain": [
       "<Figure size 432x288 with 1 Axes>"
      ]
     },
     "metadata": {
      "needs_background": "light"
     },
     "output_type": "display_data"
    }
   ],
   "source": [
    "xgb.plot_importance(bst)"
   ]
  },
  {
   "cell_type": "code",
   "execution_count": 71,
   "metadata": {},
   "outputs": [
    {
     "data": {
      "image/svg+xml": [
       "<?xml version=\"1.0\" encoding=\"UTF-8\" standalone=\"no\"?>\n",
       "<!DOCTYPE svg PUBLIC \"-//W3C//DTD SVG 1.1//EN\"\n",
       " \"http://www.w3.org/Graphics/SVG/1.1/DTD/svg11.dtd\">\n",
       "<!-- Generated by graphviz version 2.43.20190912.0211 (20190912.0211)\n",
       " -->\n",
       "<!-- Title: %3 Pages: 1 -->\n",
       "<svg width=\"844pt\" height=\"218pt\"\n",
       " viewBox=\"0.00 0.00 843.93 218.00\" xmlns=\"http://www.w3.org/2000/svg\" xmlns:xlink=\"http://www.w3.org/1999/xlink\">\n",
       "<g id=\"graph0\" class=\"graph\" transform=\"scale(1 1) rotate(0) translate(4 214)\">\n",
       "<title>%3</title>\n",
       "<polygon fill=\"white\" stroke=\"transparent\" points=\"-4,4 -4,-214 839.93,-214 839.93,4 -4,4\"/>\n",
       "<!-- 0 -->\n",
       "<g id=\"node1\" class=\"node\">\n",
       "<title>0</title>\n",
       "<ellipse fill=\"none\" stroke=\"black\" cx=\"393.09\" cy=\"-192\" rx=\"48.19\" ry=\"18\"/>\n",
       "<text text-anchor=\"middle\" x=\"393.09\" y=\"-188.3\" font-family=\"Times,serif\" font-size=\"14.00\">f0&lt;32.5</text>\n",
       "</g>\n",
       "<!-- 1 -->\n",
       "<g id=\"node2\" class=\"node\">\n",
       "<title>1</title>\n",
       "<ellipse fill=\"none\" stroke=\"black\" cx=\"312.09\" cy=\"-105\" rx=\"42.49\" ry=\"18\"/>\n",
       "<text text-anchor=\"middle\" x=\"312.09\" y=\"-101.3\" font-family=\"Times,serif\" font-size=\"14.00\">f3&lt;0.5</text>\n",
       "</g>\n",
       "<!-- 0&#45;&gt;1 -->\n",
       "<g id=\"edge1\" class=\"edge\">\n",
       "<title>0&#45;&gt;1</title>\n",
       "<path fill=\"none\" stroke=\"#0000ff\" d=\"M377.47,-174.61C365.29,-161.83 348.21,-143.9 334.56,-129.58\"/>\n",
       "<polygon fill=\"#0000ff\" stroke=\"#0000ff\" points=\"336.82,-126.88 327.39,-122.05 331.75,-131.7 336.82,-126.88\"/>\n",
       "<text text-anchor=\"middle\" x=\"402.59\" y=\"-144.8\" font-family=\"Times,serif\" font-size=\"14.00\">yes, missing</text>\n",
       "</g>\n",
       "<!-- 2 -->\n",
       "<g id=\"node3\" class=\"node\">\n",
       "<title>2</title>\n",
       "<ellipse fill=\"none\" stroke=\"black\" cx=\"524.09\" cy=\"-105\" rx=\"48.19\" ry=\"18\"/>\n",
       "<text text-anchor=\"middle\" x=\"524.09\" y=\"-101.3\" font-family=\"Times,serif\" font-size=\"14.00\">f0&lt;52.5</text>\n",
       "</g>\n",
       "<!-- 0&#45;&gt;2 -->\n",
       "<g id=\"edge2\" class=\"edge\">\n",
       "<title>0&#45;&gt;2</title>\n",
       "<path fill=\"none\" stroke=\"#ff0000\" d=\"M417.84,-176.49C428.2,-170.31 440.31,-162.94 451.09,-156 465.5,-146.73 481.22,-136.04 494.36,-126.93\"/>\n",
       "<polygon fill=\"#ff0000\" stroke=\"#ff0000\" points=\"496.38,-129.79 502.59,-121.21 492.38,-124.05 496.38,-129.79\"/>\n",
       "<text text-anchor=\"middle\" x=\"483.09\" y=\"-144.8\" font-family=\"Times,serif\" font-size=\"14.00\">no</text>\n",
       "</g>\n",
       "<!-- 3 -->\n",
       "<g id=\"node4\" class=\"node\">\n",
       "<title>3</title>\n",
       "<ellipse fill=\"none\" stroke=\"black\" cx=\"100.09\" cy=\"-18\" rx=\"100.18\" ry=\"18\"/>\n",
       "<text text-anchor=\"middle\" x=\"100.09\" y=\"-14.3\" font-family=\"Times,serif\" font-size=\"14.00\">leaf=&#45;0.927717924</text>\n",
       "</g>\n",
       "<!-- 1&#45;&gt;3 -->\n",
       "<g id=\"edge3\" class=\"edge\">\n",
       "<title>1&#45;&gt;3</title>\n",
       "<path fill=\"none\" stroke=\"#0000ff\" d=\"M280.98,-92.63C262.86,-85.92 239.61,-77.17 219.09,-69 194.88,-59.36 168.11,-48.16 146.1,-38.81\"/>\n",
       "<polygon fill=\"#0000ff\" stroke=\"#0000ff\" points=\"147.24,-35.49 136.67,-34.79 144.49,-41.93 147.24,-35.49\"/>\n",
       "<text text-anchor=\"middle\" x=\"263.59\" y=\"-57.8\" font-family=\"Times,serif\" font-size=\"14.00\">yes, missing</text>\n",
       "</g>\n",
       "<!-- 4 -->\n",
       "<g id=\"node5\" class=\"node\">\n",
       "<title>4</title>\n",
       "<ellipse fill=\"none\" stroke=\"black\" cx=\"312.09\" cy=\"-18\" rx=\"94.48\" ry=\"18\"/>\n",
       "<text text-anchor=\"middle\" x=\"312.09\" y=\"-14.3\" font-family=\"Times,serif\" font-size=\"14.00\">leaf=&#45;1.04471076</text>\n",
       "</g>\n",
       "<!-- 1&#45;&gt;4 -->\n",
       "<g id=\"edge4\" class=\"edge\">\n",
       "<title>1&#45;&gt;4</title>\n",
       "<path fill=\"none\" stroke=\"#ff0000\" d=\"M312.09,-86.8C312.09,-75.16 312.09,-59.55 312.09,-46.24\"/>\n",
       "<polygon fill=\"#ff0000\" stroke=\"#ff0000\" points=\"315.59,-46.18 312.09,-36.18 308.59,-46.18 315.59,-46.18\"/>\n",
       "<text text-anchor=\"middle\" x=\"321.09\" y=\"-57.8\" font-family=\"Times,serif\" font-size=\"14.00\">no</text>\n",
       "</g>\n",
       "<!-- 5 -->\n",
       "<g id=\"node6\" class=\"node\">\n",
       "<title>5</title>\n",
       "<ellipse fill=\"none\" stroke=\"black\" cx=\"524.09\" cy=\"-18\" rx=\"100.18\" ry=\"18\"/>\n",
       "<text text-anchor=\"middle\" x=\"524.09\" y=\"-14.3\" font-family=\"Times,serif\" font-size=\"14.00\">leaf=&#45;0.278792262</text>\n",
       "</g>\n",
       "<!-- 2&#45;&gt;5 -->\n",
       "<g id=\"edge5\" class=\"edge\">\n",
       "<title>2&#45;&gt;5</title>\n",
       "<path fill=\"none\" stroke=\"#0000ff\" d=\"M524.09,-86.8C524.09,-75.16 524.09,-59.55 524.09,-46.24\"/>\n",
       "<polygon fill=\"#0000ff\" stroke=\"#0000ff\" points=\"527.59,-46.18 524.09,-36.18 520.59,-46.18 527.59,-46.18\"/>\n",
       "<text text-anchor=\"middle\" x=\"568.59\" y=\"-57.8\" font-family=\"Times,serif\" font-size=\"14.00\">yes, missing</text>\n",
       "</g>\n",
       "<!-- 6 -->\n",
       "<g id=\"node7\" class=\"node\">\n",
       "<title>6</title>\n",
       "<ellipse fill=\"none\" stroke=\"black\" cx=\"739.09\" cy=\"-18\" rx=\"96.68\" ry=\"18\"/>\n",
       "<text text-anchor=\"middle\" x=\"739.09\" y=\"-14.3\" font-family=\"Times,serif\" font-size=\"14.00\">leaf=0.299097598</text>\n",
       "</g>\n",
       "<!-- 2&#45;&gt;6 -->\n",
       "<g id=\"edge6\" class=\"edge\">\n",
       "<title>2&#45;&gt;6</title>\n",
       "<path fill=\"none\" stroke=\"#ff0000\" d=\"M557.32,-91.76C575.1,-85.14 597.34,-76.76 617.09,-69 641.98,-59.22 669.55,-47.95 692.18,-38.6\"/>\n",
       "<polygon fill=\"#ff0000\" stroke=\"#ff0000\" points=\"693.66,-41.77 701.56,-34.71 690.98,-35.31 693.66,-41.77\"/>\n",
       "<text text-anchor=\"middle\" x=\"663.09\" y=\"-57.8\" font-family=\"Times,serif\" font-size=\"14.00\">no</text>\n",
       "</g>\n",
       "</g>\n",
       "</svg>\n"
      ],
      "text/plain": [
       "<graphviz.dot.Digraph at 0x7f6af1add210>"
      ]
     },
     "execution_count": 71,
     "metadata": {},
     "output_type": "execute_result"
    }
   ],
   "source": [
    "xgb.to_graphviz(bst, num_trees=2)"
   ]
  },
  {
   "cell_type": "code",
   "execution_count": null,
   "metadata": {},
   "outputs": [],
   "source": []
  }
 ],
 "metadata": {
  "kernelspec": {
   "display_name": "Python 3",
   "language": "python",
   "name": "python3"
  },
  "language_info": {
   "codemirror_mode": {
    "name": "ipython",
    "version": 3
   },
   "file_extension": ".py",
   "mimetype": "text/x-python",
   "name": "python",
   "nbconvert_exporter": "python",
   "pygments_lexer": "ipython3",
   "version": "3.7.4"
  }
 },
 "nbformat": 4,
 "nbformat_minor": 2
}
